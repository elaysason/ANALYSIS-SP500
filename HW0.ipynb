{
  "cells": [
    {
      "cell_type": "markdown",
      "metadata": {
        "id": "view-in-github",
        "colab_type": "text"
      },
      "source": [
        "<a href=\"https://colab.research.google.com/github/elaysason/ANALYSIS-SP500/blob/main/HW0.ipynb\" target=\"_parent\"><img src=\"https://colab.research.google.com/assets/colab-badge.svg\" alt=\"Open In Colab\"/></a>"
      ]
    },
    {
      "cell_type": "code",
      "execution_count": null,
      "metadata": {
        "id": "xyzrNXijILdg"
      },
      "outputs": [],
      "source": [
        "import torch\n",
        "import torch.nn as nn\n",
        "import torchvision\n",
        "import torchvision.datasets as dsets\n",
        "import torchvision.transforms as transforms\n",
        "import matplotlib.pyplot as plt\n",
        "import numpy as np"
      ]
    },
    {
      "cell_type": "code",
      "execution_count": null,
      "metadata": {
        "id": "ZGksJkgJSPLm"
      },
      "outputs": [],
      "source": [
        "input_size = 784  #28*28\n",
        "num_classes = 10\n",
        "num_epochs = 5\n",
        "batch_size = 100\n",
        "learning_rate = 0.001"
      ]
    },
    {
      "cell_type": "code",
      "execution_count": null,
      "metadata": {
        "id": "-xWc5O5nStIm"
      },
      "outputs": [],
      "source": [
        "# MNIST Dataset (Images and Labels)\n",
        "transform = transforms.Compose([transforms.ToTensor(),\n",
        "                                transforms.Normalize(mean=[0.3081,],\n",
        "                                                     std=[0.1306,])])\n",
        "\n",
        "train_dataset = dsets.MNIST(root='./data', train=True, transform=transform,\n",
        "                            download=True)\n",
        "\n",
        "test_dataset = dsets.MNIST(root='./data', train=False, transform=transform)\n",
        "\n",
        "# Dataset Loader (Input Pipline)\n",
        "train_loader = torch.utils.data.DataLoader(dataset=train_dataset, \n",
        "                                           batch_size=batch_size, \n",
        "                                           shuffle=True)\n",
        "\n",
        "test_loader = torch.utils.data.DataLoader(dataset=test_dataset, \n",
        "                                          batch_size=batch_size, \n",
        "                                          shuffle=False)"
      ]
    },
    {
      "cell_type": "code",
      "execution_count": null,
      "metadata": {
        "id": "9qTTH1yGSt3r"
      },
      "outputs": [],
      "source": [
        "#normalizing the data\n",
        "train_set = torchvision.datasets.MNIST(root='./data',train=True,download=True,\n",
        "                                               transform=transforms.ToTensor())"
      ]
    },
    {
      "cell_type": "code",
      "execution_count": null,
      "metadata": {
        "id": "cgGvLSf7nAc6"
      },
      "outputs": [],
      "source": [
        "def newsoftmax(x):\n",
        "  max = torch.max(x, 1, keepdim=True)[0]\n",
        "  x_exp = torch.exp(x-max)\n",
        "  x_exp_sum = torch.sum(x_exp, 1, keepdim=True)\n",
        "  return x_exp/x_exp_sum"
      ]
    },
    {
      "cell_type": "code",
      "execution_count": null,
      "metadata": {
        "id": "lTOcqRBfpyPi"
      },
      "outputs": [],
      "source": [
        "def relu(out):\n",
        "  zeros_vec = torch.zeros(out.shape)\n",
        "  return torch.maximum(out,zeros_vec)"
      ]
    },
    {
      "cell_type": "code",
      "execution_count": null,
      "metadata": {
        "id": "oYqGjev5TIQK"
      },
      "outputs": [],
      "source": [
        "#define the model\n",
        "class TwoLayers(nn.Module):\n",
        "    def __init__(self, input_size, output_size):\n",
        "        super(TwoLayers, self).__init__()\n",
        "        self.linear1 = nn.Linear(input_size, 100)  \n",
        "        self.linear2 = nn.Linear(100, output_size) \n",
        "        \n",
        "    def forward(self, x):\n",
        "        out = self.linear1(x)\n",
        "        out = relu(out)    \n",
        "        out = self.linear2(out)\n",
        "        return newsoftmax(out)"
      ]
    },
    {
      "cell_type": "code",
      "execution_count": null,
      "metadata": {
        "id": "6V3Der_0l0Pe"
      },
      "outputs": [],
      "source": [
        "def Cross_entropy_loss(outputs, labels):\n",
        "    total_sum = 0\n",
        "    for i,label in enumerate(labels):\n",
        "      cur_disb = outputs[i]\n",
        "      total_sum += label*cur_disb[label]\n",
        "    return total_sum *-1/len(labels)"
      ]
    },
    {
      "cell_type": "code",
      "execution_count": null,
      "metadata": {
        "id": "PJMlvK5CTOGk"
      },
      "outputs": [],
      "source": [
        "model = TwoLayers(input_size, num_classes)\n",
        "ce_loss = nn.CrossEntropyLoss()\n",
        "optimizer = torch.optim.SGD(model.parameters(), lr=learning_rate)"
      ]
    },
    {
      "cell_type": "code",
      "execution_count": null,
      "metadata": {
        "colab": {
          "base_uri": "https://localhost:8080/"
        },
        "id": "sVwsCIJqSLhf",
        "outputId": "a6f77ef6-6c4e-4c8d-8b80-d6da48c4725a"
      },
      "outputs": [
        {
          "output_type": "stream",
          "name": "stdout",
          "text": [
            "Epoch: [1/5], Step: [1/600], Loss: 386.0\n",
            "Epoch: [1/5], Step: [101/600], Loss: 108.5\n",
            "Epoch: [1/5], Step: [201/600], Loss: 101.4\n",
            "Epoch: [1/5], Step: [301/600], Loss: 94.43\n",
            "Epoch: [1/5], Step: [401/600], Loss: 113.8\n",
            "Epoch: [1/5], Step: [501/600], Loss: 111.0\n",
            "Epoch: [2/5], Step: [1/600], Loss: 96.48\n",
            "Epoch: [2/5], Step: [101/600], Loss: 93.03\n",
            "Epoch: [2/5], Step: [201/600], Loss: 111.9\n",
            "Epoch: [2/5], Step: [301/600], Loss: 96.07\n",
            "Epoch: [2/5], Step: [401/600], Loss: 102.5\n",
            "Epoch: [2/5], Step: [501/600], Loss: 96.48\n",
            "Epoch: [3/5], Step: [1/600], Loss: 104.8\n",
            "Epoch: [3/5], Step: [101/600], Loss: 106.6\n",
            "Epoch: [3/5], Step: [201/600], Loss: 111.7\n",
            "Epoch: [3/5], Step: [301/600], Loss: 101.3\n",
            "Epoch: [3/5], Step: [401/600], Loss: 105.5\n",
            "Epoch: [3/5], Step: [501/600], Loss: 110.1\n",
            "Epoch: [4/5], Step: [1/600], Loss: 95.33\n",
            "Epoch: [4/5], Step: [101/600], Loss: 93.72\n",
            "Epoch: [4/5], Step: [201/600], Loss: 108.0\n",
            "Epoch: [4/5], Step: [301/600], Loss: 99.47\n",
            "Epoch: [4/5], Step: [401/600], Loss: 113.1\n",
            "Epoch: [4/5], Step: [501/600], Loss: 98.55\n",
            "Epoch: [5/5], Step: [1/600], Loss: 109.8\n",
            "Epoch: [5/5], Step: [101/600], Loss: 95.57\n",
            "Epoch: [5/5], Step: [201/600], Loss: 96.48\n",
            "Epoch: [5/5], Step: [301/600], Loss: 119.5\n",
            "Epoch: [5/5], Step: [401/600], Loss: 94.87\n",
            "Epoch: [5/5], Step: [501/600], Loss: 98.55\n"
          ]
        }
      ],
      "source": [
        "acc = []\n",
        "for epoch in range(num_epochs):\n",
        "  correct = 0.0\n",
        "  total = 0\n",
        "  for i, (images, labels) in enumerate(train_loader):\n",
        "      images = images.view(-1, 28*28)        \n",
        "      optimizer.zero_grad()\n",
        "      outputs = model(images)\n",
        "      predicted = torch.argmax(outputs, 1)\n",
        "      loss = Cross_entropy_loss(outputs, labels)\n",
        "      loss.backward()\n",
        "      optimizer.step()\n",
        "\n",
        "      if i % 100 == 0:\n",
        "         print ('Epoch: [{}/{}], Step: [{}/{}], Loss: {:.4}'.format(epoch+1,\n",
        "                              num_epochs,i+1, len(train_dataset)//batch_size,\n",
        "                                                                  loss.item())) \n",
        "      total += labels.size(0)\n",
        "      correct += (predicted == labels).sum()\n",
        "  acc.append(correct / total)\n",
        "         "
      ]
    },
    {
      "cell_type": "code",
      "execution_count": null,
      "metadata": {
        "id": "YpjFVQUuTaKH",
        "colab": {
          "base_uri": "https://localhost:8080/"
        },
        "outputId": "a618e894-4e2f-4c5c-e436-e12f6537f898"
      },
      "outputs": [
        {
          "output_type": "stream",
          "name": "stdout",
          "text": [
            "Accuracy of the model on the 10000 test images:  0.7492\n",
            "Accuracy of the model on the 10000 test images:  0.7492\n",
            "Accuracy of the model on the 10000 test images:  0.7492\n",
            "Accuracy of the model on the 10000 test images:  0.7492\n",
            "Accuracy of the model on the 10000 test images:  0.7492\n"
          ]
        }
      ],
      "source": [
        "acc_test = []\n",
        "for epoch in range(num_epochs):\n",
        "  correct = 0\n",
        "  total = 0\n",
        "  for images, labels in test_loader:\n",
        "      images = images.view(-1, 28*28)\n",
        "      outputs = model(images)\n",
        "      predicted = torch.argmax(outputs, 1)\n",
        "      \n",
        "      total += labels.size(0)\n",
        "      correct += (predicted == labels).sum()\n",
        "\n",
        "  print('Accuracy of the model on the 10000 test images: ', float(correct) / total)\n",
        "  acc_test.append(float(correct) / total)\n",
        "#Save the Model\n",
        "torch.save(model.state_dict(), 'model.pkl')"
      ]
    },
    {
      "cell_type": "code",
      "source": [
        "plt.plot(np.arange(num_epochs), acc, label = \"train\")\n",
        "plt.plot(np.arange(num_epochs), acc_test, label = \"test\")\n",
        "\n",
        "plt.xlabel(\"Training set size\")\n",
        "plt.ylabel(\"RMSE\")\n",
        "plt.legend()\n",
        "plt.title(\"Testing error for sdt = \")\n",
        "plt.show()"
      ],
      "metadata": {
        "colab": {
          "base_uri": "https://localhost:8080/",
          "height": 295
        },
        "id": "5eXrN2Cjy7zF",
        "outputId": "fb546f8e-b7c9-4726-f46b-bc166239cadb"
      },
      "execution_count": null,
      "outputs": [
        {
          "output_type": "display_data",
          "data": {
            "text/plain": [
              "<Figure size 432x288 with 1 Axes>"
            ],
            "image/png": "[encoded data removed]"
          },
          "metadata": {
            "needs_background": "light"
          }
        }
      ]
    }
  ],
  "metadata": {
    "colab": {
      "name": "HW0.ipynb",
      "provenance": [],
      "include_colab_link": true
    },
    "kernelspec": {
      "display_name": "Python 3",
      "name": "python3"
    },
    "language_info": {
      "name": "python"
    }
  },
  "nbformat": 4,
  "nbformat_minor": 0
}